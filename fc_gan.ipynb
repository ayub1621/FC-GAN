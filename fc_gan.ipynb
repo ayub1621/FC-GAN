{
 "cells": [
  {
   "cell_type": "markdown",
   "id": "c30ceb97-8791-41fa-a16c-182d398927e3",
   "metadata": {},
   "source": [
    "# Training FC-GAN on the MNIST dataset.\n",
    "\n",
    "Fast-converging conditional generative adversarial networks for image synthesis.\n",
    "FC-GAN can accelerate the process of differentiation of all classes, thus boost the convergence speed. Experimental results on image synthesis demonstrate our model is competitive in the quality of images generated while achieving a faster convergence rate."
   ]
  },
  {
   "cell_type": "code",
   "execution_count": 1,
   "id": "2f24c59a-62da-4c4b-a779-814afc406433",
   "metadata": {},
   "outputs": [],
   "source": [
    "from keras.datasets import mnist\n",
    "from keras.layers import Input, Dense, Reshape, Flatten\n",
    "from keras.layers import BatchNormalization\n",
    "from keras.layers import LeakyReLU\n",
    "from keras.models import Sequential, Model\n",
    "from keras.optimizers import Adam\n",
    "import matplotlib.pyplot as plt\n",
    "import numpy as np\n",
    "from keras.models import load_model\n",
    "from numpy import asarray\n",
    "from numpy.random import randn"
   ]
  },
  {
   "cell_type": "code",
   "execution_count": 2,
   "id": "4670edca-79e8-44de-9481-8f7d91f24b43",
   "metadata": {},
   "outputs": [],
   "source": [
    "# Define input image dimensions\n",
    "# Large images take too much time and resources.\n",
    "img_rows = 28\n",
    "img_cols = 28\n",
    "channels = 1\n",
    "img_shape = (img_rows, img_cols, channels)"
   ]
  },
  {
   "cell_type": "code",
   "execution_count": 3,
   "id": "fbe31588-f7c3-4748-a03f-85f64158a6c4",
   "metadata": {},
   "outputs": [
    {
     "data": {
      "text/plain": [
       "'Alpha — α is a hyperparameter which controls the underlying value to which the function saturates negatives network inputs.\\n   Momentum — Speed up the training'"
      ]
     },
     "execution_count": 3,
     "metadata": {},
     "output_type": "execute_result"
    }
   ],
   "source": [
    "# Given input of noise (latent) vector, the Generator produces an image.\n",
    "def build_generator():\n",
    "    noise_shape = (100,)  # 1D array of size 100 (latent vector / noise)\n",
    "\n",
    "    # Define the generator network\n",
    "    # Here we are only using Dense layers. But network can be complicated based on the application. \n",
    "    #For example, you can use VGG for super res. GAN.\n",
    "\n",
    "    model = Sequential()\n",
    "\n",
    "    model.add(Dense(256, input_shape=noise_shape))\n",
    "    model.add(LeakyReLU(alpha=0.2))\n",
    "    model.add(BatchNormalization(momentum=0.8))\n",
    "    model.add(Dense(512))\n",
    "    model.add(LeakyReLU(alpha=0.2))\n",
    "    model.add(BatchNormalization(momentum=0.8))\n",
    "    model.add(Dense(1024))\n",
    "    model.add(LeakyReLU(alpha=0.2))\n",
    "    model.add(BatchNormalization(momentum=0.8))\n",
    "\n",
    "    model.add(Dense(np.prod(img_shape), activation='tanh'))\n",
    "    model.add(Reshape(img_shape))\n",
    "\n",
    "    model.summary()\n",
    "\n",
    "    noise = Input(shape=noise_shape)\n",
    "    img = model(noise)  # Generated image\n",
    "\n",
    "    return Model(noise, img)\n",
    "\n",
    "'''Alpha — α is a hyperparameter which controls the underlying value to which the function saturates negatives network inputs.\n",
    "   Momentum — Speed up the training'''"
   ]
  },
  {
   "cell_type": "code",
   "execution_count": 4,
   "id": "4b47adf6-313d-4a2d-b035-32e0a4183766",
   "metadata": {},
   "outputs": [
    {
     "data": {
      "text/plain": [
       "'The validity is the Discriminator’s guess of input being real or not.'"
      ]
     },
     "execution_count": 4,
     "metadata": {},
     "output_type": "execute_result"
    }
   ],
   "source": [
    "# Given an input image, the Discriminator outputs the likelihood of the image being real.\n",
    "# Binary classification - true or false\n",
    "def build_discriminator():\n",
    "    model = Sequential()\n",
    "\n",
    "    model.add(Flatten(input_shape=img_shape))\n",
    "    model.add(Dense(512))\n",
    "    model.add(LeakyReLU(alpha=0.2))\n",
    "    model.add(Dense(256))\n",
    "    model.add(LeakyReLU(alpha=0.2))\n",
    "    model.add(Dense(1, activation='sigmoid'))\n",
    "    model.summary()\n",
    "\n",
    "    img = Input(shape=img_shape)\n",
    "    validity = model(img)\n",
    "\n",
    "    return Model(img, validity)\n",
    "\n",
    "'''The validity is the Discriminator’s guess of input being real or not.'''"
   ]
  },
  {
   "cell_type": "code",
   "execution_count": 5,
   "id": "a3874690-6e68-4e26-a034-da694861867b",
   "metadata": {},
   "outputs": [],
   "source": [
    "'''Now that we have constructed our two models it’s time to put them against each other.\n",
    "   We do this by defining a training function, loading the data set, re-scaling our training\n",
    "   images and setting the ground truths.'''\n",
    "\n",
    "def train(epochs, batch_size=128, save_interval=50):\n",
    "    # Load the dataset\n",
    "    (X_train, _), (_, _) = mnist.load_data()\n",
    "\n",
    "    # Convert to float and Rescale -1 to 1 (Can also do 0 to 1)\n",
    "    X_train = (X_train.astype(np.float32) - 127.5) / 127.5\n",
    "\n",
    "    # Add channels dimension. As the input to our gen and discr. has a shape 28x28x1.\n",
    "    X_train = np.expand_dims(X_train, axis=3)\n",
    "\n",
    "    half_batch = int(batch_size / 2)\n",
    "\n",
    "    # We then loop through a number of epochs to train our Discriminator by first selecting\n",
    "    # a random batch of images from our true dataset, generating a set of images from our\n",
    "    # Generator, feeding both set of images into our Discriminator, and finally setting the\n",
    "    # loss parameters for both the real and fake images, as well as the combined loss.\n",
    "    for epoch in range(epochs):\n",
    "        # ---------------------\n",
    "        #  Train Discriminator\n",
    "        # ---------------------\n",
    "\n",
    "        # Select a random half batch of real images\n",
    "        idx = np.random.randint(0, X_train.shape[0], half_batch)\n",
    "        imgs = X_train[idx]\n",
    "\n",
    "        noise = np.random.normal(0, 1, (half_batch, 100))\n",
    "\n",
    "        # Generate a half batch of fake images\n",
    "        gen_imgs = generator.predict(noise)\n",
    "\n",
    "        # Train the discriminator on real and fake images, separately\n",
    "        # Research showed that separate training is more effective.\n",
    "        d_loss_real = discriminator.train_on_batch(imgs, np.ones((half_batch, 1)))  # Ones\n",
    "        d_loss_fake = discriminator.train_on_batch(gen_imgs, np.zeros((half_batch, 1)))  # zeros\n",
    "        # take average loss from real and fake images.\n",
    "        #\n",
    "        d_loss = 0.5 * np.add(d_loss_real, d_loss_fake)\n",
    "\n",
    "        # And within the same loop we train our Generator, by setting the input noise and\n",
    "        # ultimately training the Generator to have the Discriminator label its samples as valid\n",
    "        # by specifying the gradient loss.\n",
    "        # ---------------------\n",
    "        #  Train Generator\n",
    "        # ---------------------\n",
    "        # Create noise vectors as input for generator.\n",
    "        # Create as many noise vectors as defined by the batch size.\n",
    "        # Based on normal distribution. Output will be of size (batch size, 100)\n",
    "\n",
    "        noise = np.random.normal(0, 1, (batch_size, 100))\n",
    "\n",
    "        # The generator wants the discriminator to label the generated samples\n",
    "        # as valid (ones)\n",
    "        # This is where the genrator is trying to trick discriminator into believing\n",
    "        # the generated image is true (hence value of 1 for y)\n",
    "        valid_y = np.array([1] * batch_size)  # Creates an array of all ones of size=batch size\n",
    "\n",
    "        # Generator is part of combined where it got directly linked with the discriminator\n",
    "        # Train the generator with noise as x and 1 as y.\n",
    "        # Again, 1 as the output as i fooling the discrimit is adversarial and if generator did a great\n",
    "        #         # job ofnator then the output would be 1 (true)\n",
    "        g_loss = combined.train_on_batch(noise, valid_y)\n",
    "\n",
    "        # Additionally, in order for us to keep track of our training process, we print the\n",
    "        # progress and save the sample image output depending on the epoch interval specified.\n",
    "        # Plot the progress\n",
    "\n",
    "        print(\"%d [D loss: %f, acc.: %.2f%%] [G loss: %f]\" % (epoch, d_loss[0], 100 * d_loss[1], g_loss))\n",
    "\n",
    "        # If at save interval => save generated image samples\n",
    "        if epoch % save_interval == 0:\n",
    "            save_imgs(epoch)\n"
   ]
  },
  {
   "cell_type": "code",
   "execution_count": 6,
   "id": "3b81ac40-385a-4598-b7c8-ba37290b490c",
   "metadata": {},
   "outputs": [],
   "source": [
    "# when the specific sample_interval is hit, we call the\n",
    "# sample_image function. Which looks as follows.\n",
    "\n",
    "def save_imgs(epoch):\n",
    "    r, c = 5, 5\n",
    "    noise = np.random.normal(0, 1, (r * c, 100))\n",
    "    gen_imgs = generator.predict(noise)\n",
    "\n",
    "    # Rescale images 0 - 1\n",
    "    gen_imgs = 0.5 * gen_imgs + 0.5\n",
    "\n",
    "    fig, axs = plt.subplots(r, c)\n",
    "    cnt = 0\n",
    "    for i in range(r):\n",
    "        for j in range(c):\n",
    "            axs[i, j].imshow(gen_imgs[cnt, :, :, 0], cmap='gray')\n",
    "            axs[i, j].axis('off')\n",
    "            cnt += 1\n",
    "    fig.savefig(\"Results/images/mnist_%d.png\" % epoch)\n",
    "    plt.close()\n",
    "\n",
    "# This function saves our images for us to view"
   ]
  },
  {
   "cell_type": "code",
   "execution_count": 7,
   "id": "7ab140f7-1a3f-48ff-9412-e8aebe20d28c",
   "metadata": {},
   "outputs": [],
   "source": [
    "# Let us also define our optimizer for easy use later on.\n",
    "optimizer = Adam(0.0002, 0.5)  # Learning rate and momentum.\n"
   ]
  },
  {
   "cell_type": "code",
   "execution_count": 8,
   "id": "f0e3d379-f1d0-4642-bd64-b6ffc8f7daf4",
   "metadata": {},
   "outputs": [
    {
     "name": "stdout",
     "output_type": "stream",
     "text": [
      "Model: \"sequential\"\n",
      "_________________________________________________________________\n",
      " Layer (type)                Output Shape              Param #   \n",
      "=================================================================\n",
      " flatten (Flatten)           (None, 784)               0         \n",
      "                                                                 \n",
      " dense (Dense)               (None, 512)               401920    \n",
      "                                                                 \n",
      " leaky_re_lu (LeakyReLU)     (None, 512)               0         \n",
      "                                                                 \n",
      " dense_1 (Dense)             (None, 256)               131328    \n",
      "                                                                 \n",
      " leaky_re_lu_1 (LeakyReLU)   (None, 256)               0         \n",
      "                                                                 \n",
      " dense_2 (Dense)             (None, 1)                 257       \n",
      "                                                                 \n",
      "=================================================================\n",
      "Total params: 533,505\n",
      "Trainable params: 533,505\n",
      "Non-trainable params: 0\n",
      "_________________________________________________________________\n"
     ]
    }
   ],
   "source": [
    "# Build and compile the discriminator first.\n",
    "# Generator will be trained as part of the combined model, later.\n",
    "# pick the loss function and the type of metric to keep track.\n",
    "# Binary cross entropy as we are doing prediction, and it is a better\n",
    "# loss function compared to MSE or other.\n",
    "\n",
    "discriminator = build_discriminator()\n",
    "discriminator.compile(loss='binary_crossentropy',\n",
    "                      optimizer=optimizer,\n",
    "                      metrics=['accuracy'])\n",
    "\n",
    "# build and compile our Discriminator, pick the loss function"
   ]
  },
  {
   "cell_type": "code",
   "execution_count": 9,
   "id": "82de54af-298c-496f-968e-f5dad9cb0efe",
   "metadata": {},
   "outputs": [
    {
     "name": "stdout",
     "output_type": "stream",
     "text": [
      "Model: \"sequential_1\"\n",
      "_________________________________________________________________\n",
      " Layer (type)                Output Shape              Param #   \n",
      "=================================================================\n",
      " dense_3 (Dense)             (None, 256)               25856     \n",
      "                                                                 \n",
      " leaky_re_lu_2 (LeakyReLU)   (None, 256)               0         \n",
      "                                                                 \n",
      " batch_normalization (BatchN  (None, 256)              1024      \n",
      " ormalization)                                                   \n",
      "                                                                 \n",
      " dense_4 (Dense)             (None, 512)               131584    \n",
      "                                                                 \n",
      " leaky_re_lu_3 (LeakyReLU)   (None, 512)               0         \n",
      "                                                                 \n",
      " batch_normalization_1 (Batc  (None, 512)              2048      \n",
      " hNormalization)                                                 \n",
      "                                                                 \n",
      " dense_5 (Dense)             (None, 1024)              525312    \n",
      "                                                                 \n",
      " leaky_re_lu_4 (LeakyReLU)   (None, 1024)              0         \n",
      "                                                                 \n",
      " batch_normalization_2 (Batc  (None, 1024)             4096      \n",
      " hNormalization)                                                 \n",
      "                                                                 \n",
      " dense_6 (Dense)             (None, 784)               803600    \n",
      "                                                                 \n",
      " reshape (Reshape)           (None, 28, 28, 1)         0         \n",
      "                                                                 \n",
      "=================================================================\n",
      "Total params: 1,493,520\n",
      "Trainable params: 1,489,936\n",
      "Non-trainable params: 3,584\n",
      "_________________________________________________________________\n"
     ]
    }
   ],
   "source": [
    "# Since we are only generating (faking) images, let us not track any metrics.\n",
    "generator = build_generator()\n",
    "generator.compile(loss='binary_crossentropy', optimizer=optimizer)"
   ]
  },
  {
   "cell_type": "code",
   "execution_count": 10,
   "id": "b83be110-fd65-49aa-8c5b-68710989a2bf",
   "metadata": {},
   "outputs": [],
   "source": [
    "#This builds the Generator and defines the input noise.\n",
    "# In a GAN the Generator network takes noise z as an input to produce its images.\n",
    "z = Input(shape=(100,))  # Our random input to the generator\n",
    "img = generator(z)"
   ]
  },
  {
   "cell_type": "code",
   "execution_count": 11,
   "id": "876598ed-20f5-4c74-bae7-7700db514f98",
   "metadata": {},
   "outputs": [],
   "source": [
    "# This ensures that when we combine our networks we only train the Generator.\n",
    "# While generator training we do not want discriminator weights to be adjusted.\n",
    "# This Doesn't affect the above discriminator training.\n",
    "discriminator.trainable = False"
   ]
  },
  {
   "cell_type": "code",
   "execution_count": 12,
   "id": "a9426fe2-44df-4d71-a20f-fbd9a6a9075f",
   "metadata": {},
   "outputs": [],
   "source": [
    "# This specifies that our Discriminator will take the images generated by our Generator\n",
    "# and true dataset and set its output to a parameter called valid, which will indicate\n",
    "# whether the input is real or not.\n",
    "valid = discriminator(img)  # Validity check on the generated image"
   ]
  },
  {
   "cell_type": "code",
   "execution_count": null,
   "id": "e1c6df7b-0121-406d-ad3a-a95c1b5d8527",
   "metadata": {},
   "outputs": [],
   "source": [
    "# Here we combined the models and also set our loss function and optimizer.\n",
    "# Again, we are only training the generator here.\n",
    "# The ultimate goal here is for the Generator to fool the Discriminator.\n",
    "# The combined model  (stacked generator and discriminator) takes\n",
    "# noise as input => generates images => determines validity\n",
    "\n",
    "combined = Model(z, valid)\n",
    "combined.compile(loss='binary_crossentropy', optimizer=optimizer)\n",
    "\n",
    "train(epochs= 100000, batch_size=32, save_interval=10)"
   ]
  },
  {
   "cell_type": "code",
   "execution_count": 13,
   "id": "ed59020f-df24-4ef2-92c8-37ef725345d4",
   "metadata": {},
   "outputs": [],
   "source": [
    "# Save model for future use to generate fake images\n",
    "# Epochs dictate the number of backward and forward propagations, the batch_size\n",
    "# indicates the number of training samples per backward/forward propagation, and the\n",
    "# sample_interval specifies after how many epochs we call our sample_image function.\n",
    "generator.save('Results/Models/generator_model100K.h5')"
   ]
  },
  {
   "cell_type": "markdown",
   "id": "5a56e008-bfa9-4d8e-984d-b16f96d74478",
   "metadata": {},
   "source": [
    "# Testing"
   ]
  },
  {
   "cell_type": "code",
   "execution_count": 22,
   "id": "472c7c35-3ce1-4905-a77d-0254c2f032bb",
   "metadata": {},
   "outputs": [],
   "source": [
    "# load model\n",
    "model = load_model('Resources/generator_model_100K.h5')"
   ]
  },
  {
   "cell_type": "code",
   "execution_count": 15,
   "id": "2be26d86-ad8f-4509-8cdb-da7aa9831c93",
   "metadata": {},
   "outputs": [],
   "source": [
    "#To create same image, supply same vector each time\n",
    "# all 0s\n",
    "#vector = asarray([[0. for _ in range(100)]])  #Vector of all zeros"
   ]
  },
  {
   "cell_type": "code",
   "execution_count": 23,
   "id": "596c4b41-7b93-48be-ba86-53fb3c0443d7",
   "metadata": {},
   "outputs": [],
   "source": [
    "#To create random images each time...\n",
    "vector = randn(100) #Vector of random numbers (creates a column, need to reshape)\n",
    "vector = vector.reshape(1, 100)"
   ]
  },
  {
   "cell_type": "code",
   "execution_count": 24,
   "id": "314e1938-215a-4dd9-ba69-88f8803c2fa5",
   "metadata": {},
   "outputs": [
    {
     "name": "stdout",
     "output_type": "stream",
     "text": [
      "1/1 [==============================] - 0s 78ms/step\n"
     ]
    }
   ],
   "source": [
    "# generate image\n",
    "X = model.predict(vector)\n",
    "\n",
    "# plot the result\n",
    "plt.imsave('Results/Predict/GAN Test.png',X[0, :, :, 0], cmap='gray_r')\n",
    "plt.show()"
   ]
  },
  {
   "cell_type": "code",
   "execution_count": null,
   "id": "2c04cc14-c1f8-443c-87d3-e7d22cf90f69",
   "metadata": {},
   "outputs": [],
   "source": []
  }
 ],
 "metadata": {
  "kernelspec": {
   "display_name": "Python 3 (ipykernel)",
   "language": "python",
   "name": "python3"
  },
  "language_info": {
   "codemirror_mode": {
    "name": "ipython",
    "version": 3
   },
   "file_extension": ".py",
   "mimetype": "text/x-python",
   "name": "python",
   "nbconvert_exporter": "python",
   "pygments_lexer": "ipython3",
   "version": "3.11.1"
  }
 },
 "nbformat": 4,
 "nbformat_minor": 5
}
